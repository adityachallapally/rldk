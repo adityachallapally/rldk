## 1. Setup and Imports# Basic PPO CartPole Example

This notebook demonstrates the basic usage of RLDK with a simple PPO training loop on the CartPole environment. This is a CPU-friendly example that focuses on logging and analysis without GPU requirements.

## Learning Objectives

After completing this notebook, you will understand:
- How to set up experiment tracking with RLDK
- How to run forensics analysis on training metrics
- How to check determinism and reproducibility
- How to analyze reward model health
- How to use RLDK CLI commands for analysis

## Prerequisites

- RLDK installed (`pip install rldk`)
- Basic understanding of PPO algorithm
- Familiarity with reinforcement learning concepts